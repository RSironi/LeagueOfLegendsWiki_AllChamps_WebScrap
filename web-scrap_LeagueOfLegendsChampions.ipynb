{
 "cells": [
  {
   "cell_type": "code",
   "execution_count": null,
   "metadata": {},
   "outputs": [],
   "source": [
    "%pip install pandas beautifulsoup4 selenium"
   ]
  },
  {
   "cell_type": "code",
   "execution_count": 303,
   "metadata": {},
   "outputs": [],
   "source": [
    "import pandas as pd\n",
    "from bs4 import BeautifulSoup\n",
    "from selenium import webdriver\n",
    "from selenium.webdriver.edge.options import Options\n",
    "from selenium.webdriver.common.by import By"
   ]
  },
  {
   "cell_type": "code",
   "execution_count": 304,
   "metadata": {},
   "outputs": [],
   "source": [
    "url = \"https://leagueoflegends.fandom.com/wiki/List_of_champions\"\n",
    "option = Options()\n",
    "option.headless= True\n",
    "driver = webdriver.Edge(options=option)"
   ]
  },
  {
   "cell_type": "code",
   "execution_count": 305,
   "metadata": {},
   "outputs": [],
   "source": [
    "driver.get(url)\n",
    "element = driver.find_element(By.XPATH,\"//*[@id='mw-content-text']/div[1]/table\")\n",
    "htmlContent = element.get_attribute(\"outerHTML\")\n",
    "\n",
    "soup = BeautifulSoup(htmlContent,'html.parser')\n",
    "leagueTable = soup.find('table')\n",
    "driver.quit()"
   ]
  },
  {
   "cell_type": "markdown",
   "metadata": {},
   "source": [
    "Note:\n",
    ">`#1.`Correction required in other places marked if data here as changed:"
   ]
  },
  {
   "cell_type": "code",
   "execution_count": 306,
   "metadata": {},
   "outputs": [],
   "source": [
    "listChampions = []\n",
    "\n",
    "for champions in leagueTable.find_all('tbody'):\n",
    "    champion = champions.find_all('tr')\n",
    "    for row in champion:\n",
    "        championName = row.find('span', class_='inline-image label-only champion-icon tooltips-init-complete')['data-champion'] #1.\n",
    "        championClass = row.find('span', class_='glossary tooltips-init-complete')['data-tip']\n",
    "        championReleaseDate = row.find_all('td')[2].text \n",
    "        championLastChanged = row.find_all('td')[3].text\n",
    "        championBlueEssence = row.find_all('td')[4].text\n",
    "        championRP = row.find_all('td')[5].text\n",
    "        championImgUrl = row.find('img')['data-src']\n",
    "\n",
    "        listChampions.append([championName, championClass, championReleaseDate,\n",
    "                             championLastChanged, championBlueEssence, championRP, championImgUrl]) #1.\n"
   ]
  },
  {
   "cell_type": "code",
   "execution_count": 307,
   "metadata": {},
   "outputs": [],
   "source": [
    "def remove_breakline(text):\n",
    "    return text.replace(\"\\n\", \"\")"
   ]
  },
  {
   "cell_type": "code",
   "execution_count": 308,
   "metadata": {},
   "outputs": [],
   "source": [
    "df = pd.DataFrame (listChampions, columns=['name','class','releaseDate','lastChanged','blueEssence','riotPoints','imgUrl']) #1.\n",
    "df = df.applymap(remove_breakline)"
   ]
  },
  {
   "cell_type": "code",
   "execution_count": 309,
   "metadata": {},
   "outputs": [],
   "source": [
    "df.to_json('AllChampionsList.json',orient='records', lines = False)\n",
    "\n",
    "driver.quit()"
   ]
  }
 ],
 "metadata": {
  "kernelspec": {
   "display_name": "Python 3",
   "language": "python",
   "name": "python3"
  },
  "language_info": {
   "codemirror_mode": {
    "name": "ipython",
    "version": 3
   },
   "file_extension": ".py",
   "mimetype": "text/x-python",
   "name": "python",
   "nbconvert_exporter": "python",
   "pygments_lexer": "ipython3",
   "version": "3.9.6"
  },
  "orig_nbformat": 4
 },
 "nbformat": 4,
 "nbformat_minor": 2
}
